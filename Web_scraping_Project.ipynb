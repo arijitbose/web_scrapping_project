{
 "cells": [
  {
   "cell_type": "code",
   "execution_count": 1,
   "metadata": {},
   "outputs": [],
   "source": [
    "\n",
    "import requests  \n",
    "\n",
    "from bs4 import BeautifulSoup \n",
    "\n",
    "import pandas as pd\n",
    "\n",
    "import csv\n",
    "\n",
    "import time\n",
    "\n",
    "from urllib.request import urlopen"
   ]
  },
  {
   "cell_type": "code",
   "execution_count": 2,
   "metadata": {},
   "outputs": [],
   "source": [
    "parameter1=\"babar_Azam\"\n",
    "html=urlopen('https://en.wikipedia.org/wiki/'+parameter1)\n",
    "soup = BeautifulSoup(html.read(), 'html.parser')\n",
    "soup\n",
    "a=[]\n",
    "\n",
    "for link in soup.find_all('a'):\n",
    "    if 'href' in link.attrs:\n",
    "        a.append(link.attrs['href'])\n",
    "b=[]\n",
    "c='/content/player/'\n",
    "for i in a:\n",
    "    if(c in i):\n",
    "        b.append(i)\n",
    "       \n",
    "html2=urlopen(b[0])\n",
    "soup2 = BeautifulSoup(html2.read(), 'html.parser')\n",
    "\n",
    "\n",
    "\n"
   ]
  },
  {
   "cell_type": "code",
   "execution_count": 5,
   "metadata": {},
   "outputs": [
    {
     "data": {
      "text/plain": [
       "['Mat', 'Inns', 'NO', 'Runs', 'HS', 'Ave']"
      ]
     },
     "execution_count": 5,
     "metadata": {},
     "output_type": "execute_result"
    }
   ],
   "source": [
    "anchors = soup2.find_all('th', {'class': 'ds-w-0 ds-whitespace-nowrap ds-min-w-max'})\n",
    "d=[]\n",
    "for anchor in anchors:\n",
    "    d.append(anchor.text)\n",
    "    \n",
    "e=d[0:6]\n",
    "e"
   ]
  },
  {
   "cell_type": "code",
   "execution_count": 6,
   "metadata": {},
   "outputs": [
    {
     "data": {
      "text/plain": [
       "['42', '75', '9', '3122', '196', '47.30']"
      ]
     },
     "execution_count": 6,
     "metadata": {},
     "output_type": "execute_result"
    }
   ],
   "source": [
    "anchors2 = soup2.find_all('td', {'class': \n",
    "                                 {'ds-w-0 ds-whitespace-nowrap ds-min-w-max ds-text-right ds-text-right',\n",
    "                                  'ds-w-0 ds-whitespace-nowrap ds-min-w-max ds-text-right ds-text-right ds-font-bold'}})\n",
    "f=[]\n",
    "for anchor in anchors2:\n",
    "    f.append(anchor.text)\n",
    "g=f[0:6]    \n",
    "g    "
   ]
  },
  {
   "cell_type": "code",
   "execution_count": 7,
   "metadata": {},
   "outputs": [
    {
     "data": {
      "text/plain": [
       "{'Mat': '42',\n",
       " 'Inns': '75',\n",
       " 'NO': '9',\n",
       " 'Runs': '3122',\n",
       " 'HS': '196',\n",
       " 'Ave': '47.30'}"
      ]
     },
     "execution_count": 7,
     "metadata": {},
     "output_type": "execute_result"
    }
   ],
   "source": [
    "new_dict = {e[i]: f[i] for i in range(len(e))}\n",
    "new_dict"
   ]
  },
  {
   "cell_type": "code",
   "execution_count": 8,
   "metadata": {},
   "outputs": [
    {
     "data": {
      "text/html": [
       "<div>\n",
       "<style scoped>\n",
       "    .dataframe tbody tr th:only-of-type {\n",
       "        vertical-align: middle;\n",
       "    }\n",
       "\n",
       "    .dataframe tbody tr th {\n",
       "        vertical-align: top;\n",
       "    }\n",
       "\n",
       "    .dataframe thead th {\n",
       "        text-align: right;\n",
       "    }\n",
       "</style>\n",
       "<table border=\"1\" class=\"dataframe\">\n",
       "  <thead>\n",
       "    <tr style=\"text-align: right;\">\n",
       "      <th></th>\n",
       "      <th>Mat</th>\n",
       "      <th>Inns</th>\n",
       "      <th>NO</th>\n",
       "      <th>Runs</th>\n",
       "      <th>HS</th>\n",
       "      <th>Ave</th>\n",
       "    </tr>\n",
       "  </thead>\n",
       "  <tbody>\n",
       "    <tr>\n",
       "      <th>0</th>\n",
       "      <td>42</td>\n",
       "      <td>75</td>\n",
       "      <td>9</td>\n",
       "      <td>3122</td>\n",
       "      <td>196</td>\n",
       "      <td>47.30</td>\n",
       "    </tr>\n",
       "  </tbody>\n",
       "</table>\n",
       "</div>"
      ],
      "text/plain": [
       "  Mat Inns NO  Runs   HS    Ave\n",
       "0  42   75  9  3122  196  47.30"
      ]
     },
     "execution_count": 8,
     "metadata": {},
     "output_type": "execute_result"
    }
   ],
   "source": [
    "import pandas as pd\n",
    "df_table = pd.DataFrame(new_dict,index=[0])\n",
    "df_table"
   ]
  }
 ],
 "metadata": {
  "kernelspec": {
   "display_name": "Python 3",
   "language": "python",
   "name": "python3"
  },
  "language_info": {
   "codemirror_mode": {
    "name": "ipython",
    "version": 3
   },
   "file_extension": ".py",
   "mimetype": "text/x-python",
   "name": "python",
   "nbconvert_exporter": "python",
   "pygments_lexer": "ipython3",
   "version": "3.9.13"
  },
  "vscode": {
   "interpreter": {
    "hash": "23b4a3e8622309bcc6db3d5cc6eb73d60ab98d9ec23bad6a26b709981ccb403a"
   }
  }
 },
 "nbformat": 4,
 "nbformat_minor": 4
}
